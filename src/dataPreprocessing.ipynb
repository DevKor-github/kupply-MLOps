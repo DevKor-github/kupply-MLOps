{
  "nbformat": 4,
  "nbformat_minor": 0,
  "metadata": {
    "colab": {
      "provenance": [],
      "collapsed_sections": [
        "VhfP2zOooTN2"
      ],
      "authorship_tag": "ABX9TyMqCgclqyJOTNA3mHa1sI9N",
      "include_colab_link": true
    },
    "kernelspec": {
      "name": "python3",
      "display_name": "Python 3"
    },
    "language_info": {
      "name": "python"
    }
  },
  "cells": [
    {
      "cell_type": "markdown",
      "metadata": {
        "id": "view-in-github",
        "colab_type": "text"
      },
      "source": [
        "<a href=\"https://colab.research.google.com/github/dhdbsrlw/kupply-MLOps/blob/main/dataPreprocessing.ipynb\" target=\"_parent\"><img src=\"https://colab.research.google.com/assets/colab-badge.svg\" alt=\"Open In Colab\"/></a>"
      ]
    },
    {
      "cell_type": "markdown",
      "source": [
        "# **모의지원 합격 안정도 예측 모델 데이터 전처리 - 4 CLASS**\n",
        "\n",
        "Multi-class Classification Task - *unsupervised learning*\n",
        "\n",
        "[ 특이사항 ]\n",
        "*   데이터에 한국어 및 특수기호(-) 포함\n",
        "*   설문조사 데이터에는 라벨이 있지만, skewed data (합격 샘플 多)\n",
        "\n",
        "\n"
      ],
      "metadata": {
        "id": "HbcTYwUNX5b-"
      }
    },
    {
      "cell_type": "markdown",
      "source": [
        "## 1. 데이터 전처리\n",
        "\n",
        "**대상 데이터**: 1) 회원가입 데이터  2) 모의지원 데이터 \\\n",
        "**모델**: Clustering (ML 모델)\n",
        "\n",
        "\\\n",
        "+) 나중에 설문조사 데이터를 바탕으로 CLS 모델도 만들어볼 수 있다. \\\n",
        "++) labelled data 와 unlabelled data 를 혼합하여 CLS 모델을 만들어볼 수 있다."
      ],
      "metadata": {
        "id": "WhGIgwT5Zgy-"
      }
    },
    {
      "cell_type": "code",
      "source": [
        "from google.colab import drive\n",
        "drive.mount('/content/drive/')"
      ],
      "metadata": {
        "colab": {
          "base_uri": "https://localhost:8080/"
        },
        "id": "Sn6Hv_EIacYA",
        "outputId": "b12c3c5f-2421-466b-ce4b-93c3f0db8222"
      },
      "execution_count": null,
      "outputs": [
        {
          "output_type": "stream",
          "name": "stdout",
          "text": [
            "Drive already mounted at /content/drive/; to attempt to forcibly remount, call drive.mount(\"/content/drive/\", force_remount=True).\n"
          ]
        }
      ]
    },
    {
      "cell_type": "code",
      "source": [
        "import pandas as pd\n",
        "import numpy as np\n",
        "import json"
      ],
      "metadata": {
        "id": "z9yAIUZBaene"
      },
      "execution_count": null,
      "outputs": []
    },
    {
      "cell_type": "markdown",
      "source": [
        "### 1.1 JSON 파일 데이터프레임으로 저장"
      ],
      "metadata": {
        "id": "5BQRNi8ddT8h"
      }
    },
    {
      "cell_type": "code",
      "source": [
        "# 회원가입 정보 JSON 읽어오기\n",
        "\n",
        "with open('/content/drive/MyDrive/Colab Notebooks/kuply-MLOps/users.json') as f:\n",
        "    dataset = json.loads(f.read())\n",
        "    dataset = dataset['users']\n",
        "\n",
        "print(dataset)\n",
        "# user_df = pd.DataFrame(data)\n"
      ],
      "metadata": {
        "id": "gkr09OG0ZTwe"
      },
      "execution_count": null,
      "outputs": []
    },
    {
      "cell_type": "code",
      "source": [
        "# 데이프레임화\n",
        "\n",
        "user_df = pd.DataFrame(dataset)\n",
        "user_df.head()"
      ],
      "metadata": {
        "id": "SumF0ztlc8ss"
      },
      "execution_count": null,
      "outputs": []
    },
    {
      "cell_type": "code",
      "source": [
        "user_df.info()"
      ],
      "metadata": {
        "colab": {
          "base_uri": "https://localhost:8080/"
        },
        "id": "2TbxLhdFbmqA",
        "outputId": "d2066460-1aaf-4502-ee7c-03354617c5a0"
      },
      "execution_count": null,
      "outputs": [
        {
          "output_type": "stream",
          "name": "stdout",
          "text": [
            "<class 'pandas.core.frame.DataFrame'>\n",
            "RangeIndex: 242 entries, 0 to 241\n",
            "Data columns (total 21 columns):\n",
            " #   Column        Non-Null Count  Dtype  \n",
            "---  ------        --------------  -----  \n",
            " 0   _id           242 non-null    object \n",
            " 1   name          242 non-null    object \n",
            " 2   studentId     242 non-null    object \n",
            " 3   email         242 non-null    object \n",
            " 4   firstMajor    242 non-null    object \n",
            " 5   nickname      242 non-null    object \n",
            " 6   role          242 non-null    object \n",
            " 7   totalReport   242 non-null    int64  \n",
            " 8   profilePic    242 non-null    object \n",
            " 9   leave         242 non-null    bool   \n",
            " 10  secondMajor   19 non-null     object \n",
            " 11  passSemester  19 non-null     object \n",
            " 12  passGPA       19 non-null     float64\n",
            " 13  __v           242 non-null    int64  \n",
            " 14  hopeMajor1    223 non-null    object \n",
            " 15  hopeMajor2    223 non-null    object \n",
            " 16  hopeSemester  223 non-null    object \n",
            " 17  curGPA        223 non-null    float64\n",
            " 18  changeGPA     223 non-null    float64\n",
            " 19  isApplied     223 non-null    object \n",
            " 20  profileName   8 non-null      object \n",
            "dtypes: bool(1), float64(3), int64(2), object(15)\n",
            "memory usage: 38.2+ KB\n"
          ]
        }
      ]
    },
    {
      "cell_type": "code",
      "source": [
        "# 모의지원 정보 JSON 읽어오기\n",
        "with open('/content/drive/MyDrive/Colab Notebooks/kuply-MLOps/applicaions.json') as f:\n",
        "    dataset = json.loads(f.read())\n",
        "    dataset = dataset['applications']\n",
        "\n",
        "print(dataset)\n",
        "\n",
        "\n",
        "# 데이프레임화\n",
        "application_df = pd.DataFrame(dataset)\n",
        "application_df.head()"
      ],
      "metadata": {
        "id": "JL6-IDkHdYT7"
      },
      "execution_count": null,
      "outputs": []
    },
    {
      "cell_type": "code",
      "source": [
        "application_df.info()"
      ],
      "metadata": {
        "colab": {
          "base_uri": "https://localhost:8080/"
        },
        "id": "oeouFykTd8fD",
        "outputId": "dd7d567f-e6d3-440e-9a36-34e18814a59d"
      },
      "execution_count": null,
      "outputs": [
        {
          "output_type": "stream",
          "name": "stdout",
          "text": [
            "<class 'pandas.core.frame.DataFrame'>\n",
            "RangeIndex: 61 entries, 0 to 60\n",
            "Data columns (total 10 columns):\n",
            " #   Column         Non-Null Count  Dtype  \n",
            "---  ------         --------------  -----  \n",
            " 0   _id            61 non-null     object \n",
            " 1   candidateId    61 non-null     object \n",
            " 2   pnp            61 non-null     object \n",
            " 3   applyMajor1    61 non-null     object \n",
            " 4   applyMajor2    61 non-null     object \n",
            " 5   applySemester  61 non-null     object \n",
            " 6   applyTimes     61 non-null     object \n",
            " 7   applyGPA       61 non-null     float64\n",
            " 8   applyGrade     61 non-null     object \n",
            " 9   __v            61 non-null     int64  \n",
            "dtypes: float64(1), int64(1), object(8)\n",
            "memory usage: 4.9+ KB\n"
          ]
        }
      ]
    },
    {
      "cell_type": "markdown",
      "source": [
        "### 1.2 데이터프레임 중 의미 없는 Column 제거"
      ],
      "metadata": {
        "id": "_2WwQ1OUhXmn"
      }
    },
    {
      "cell_type": "markdown",
      "source": [
        "[ 데이터셋 중 특수한 Column ]\n",
        "\n",
        "(1) **user_df**\n",
        "- name: 한국어\n",
        "- firstMajor: 한국어, object 데이터 타입 (딕셔너리)\n",
        "- secondMajor: 한국어, object 데이터 타입 (딕셔너리)\n",
        "- email: 특수기호 포함\n",
        "- nickname: (not all) 한국어\n",
        "- GPA, Semester: 특수기호 포함 (합격자/지원자 여부에 따라 상이한 column)\n",
        "\n",
        "\n",
        "(2) **application_df**\n",
        "- applyMajor1: 한국어, object 데이터 타입 (딕셔너리)\n",
        "- applyMajor2: 한국어, object 데이터 타입 (딕셔너리)\n",
        "- applySemester: 특수기호 - 포함\n",
        "- applyGrade: 특수기호 - 포함\n",
        "- applyGPA: 특수기호 . 포함"
      ],
      "metadata": {
        "id": "yD_dRMpheFtm"
      }
    },
    {
      "cell_type": "code",
      "source": [
        "# application_df 전처리 (현재 총 61개의 샘플)\n",
        "\n",
        "drop_list = ['pnp', '__v', '_id']\n",
        "application_df.drop(labels=drop_list, axis=1, inplace=True)\n",
        "\n",
        "print(application_df.info())\n",
        "# print(application_df.head())"
      ],
      "metadata": {
        "colab": {
          "base_uri": "https://localhost:8080/"
        },
        "id": "zaiKHiKNheB7",
        "outputId": "8faaa578-3eae-4ebd-e623-effc371f68b2"
      },
      "execution_count": null,
      "outputs": [
        {
          "output_type": "stream",
          "name": "stdout",
          "text": [
            "<class 'pandas.core.frame.DataFrame'>\n",
            "RangeIndex: 61 entries, 0 to 60\n",
            "Data columns (total 7 columns):\n",
            " #   Column         Non-Null Count  Dtype  \n",
            "---  ------         --------------  -----  \n",
            " 0   candidateId    61 non-null     object \n",
            " 1   applyMajor1    61 non-null     object \n",
            " 2   applyMajor2    61 non-null     object \n",
            " 3   applySemester  61 non-null     object \n",
            " 4   applyTimes     61 non-null     object \n",
            " 5   applyGPA       61 non-null     float64\n",
            " 6   applyGrade     61 non-null     object \n",
            "dtypes: float64(1), object(6)\n",
            "memory usage: 3.5+ KB\n",
            "None\n"
          ]
        }
      ]
    },
    {
      "cell_type": "code",
      "source": [
        "# application_df 의 'candidateId' column name 변경\n",
        "\n",
        "application_df.rename(columns = {\"candidateId\": \"_id\"}, inplace=True)\n",
        "print(application_df.info())"
      ],
      "metadata": {
        "colab": {
          "base_uri": "https://localhost:8080/"
        },
        "id": "HCatzvYs0IHG",
        "outputId": "ca13f68f-90cd-443d-ce5d-ac523d5afd33"
      },
      "execution_count": null,
      "outputs": [
        {
          "output_type": "stream",
          "name": "stdout",
          "text": [
            "<class 'pandas.core.frame.DataFrame'>\n",
            "RangeIndex: 61 entries, 0 to 60\n",
            "Data columns (total 7 columns):\n",
            " #   Column         Non-Null Count  Dtype  \n",
            "---  ------         --------------  -----  \n",
            " 0   _id            61 non-null     object \n",
            " 1   applyMajor1    61 non-null     object \n",
            " 2   applyMajor2    61 non-null     object \n",
            " 3   applySemester  61 non-null     object \n",
            " 4   applyTimes     61 non-null     object \n",
            " 5   applyGPA       61 non-null     float64\n",
            " 6   applyGrade     61 non-null     object \n",
            "dtypes: float64(1), object(6)\n",
            "memory usage: 3.5+ KB\n",
            "None\n"
          ]
        }
      ]
    },
    {
      "cell_type": "code",
      "source": [
        "# user_df 전처리 (현재 총 242개의 샘플)\n",
        "\n",
        "# user_df 에서 공통으로 제거해야하는 column 제거\n",
        "drop_list = ['__v', 'name', 'email', 'nickname', 'profilePic', 'leave', 'studentId', 'totalReport', 'profileName']\n",
        "user_df.drop(labels=drop_list, axis=1, inplace=True)\n",
        "\n",
        "# user_df 의 경우, 회원구분에 따라 세부 column 이 다르기 때문에, 해당 데이터 분리\n",
        "user_passer_df = user_df[user_df['role'] == 'passer']\n",
        "user_candidate_df = user_df[user_df['role'] == 'candidate']\n",
        "\n",
        "print(user_passer_df.info())\n",
        "print(user_candidate_df.info())"
      ],
      "metadata": {
        "colab": {
          "base_uri": "https://localhost:8080/"
        },
        "id": "qJtDueQjiwNw",
        "outputId": "b4b012c8-b8e4-4ae6-cb0c-b283b484a0f7"
      },
      "execution_count": null,
      "outputs": [
        {
          "output_type": "stream",
          "name": "stdout",
          "text": [
            "<class 'pandas.core.frame.DataFrame'>\n",
            "Int64Index: 19 entries, 0 to 236\n",
            "Data columns (total 12 columns):\n",
            " #   Column        Non-Null Count  Dtype  \n",
            "---  ------        --------------  -----  \n",
            " 0   _id           19 non-null     object \n",
            " 1   firstMajor    19 non-null     object \n",
            " 2   role          19 non-null     object \n",
            " 3   secondMajor   19 non-null     object \n",
            " 4   passSemester  19 non-null     object \n",
            " 5   passGPA       19 non-null     float64\n",
            " 6   hopeMajor1    0 non-null      object \n",
            " 7   hopeMajor2    0 non-null      object \n",
            " 8   hopeSemester  0 non-null      object \n",
            " 9   curGPA        0 non-null      float64\n",
            " 10  changeGPA     0 non-null      float64\n",
            " 11  isApplied     0 non-null      object \n",
            "dtypes: float64(3), object(9)\n",
            "memory usage: 1.9+ KB\n",
            "None\n",
            "<class 'pandas.core.frame.DataFrame'>\n",
            "Int64Index: 223 entries, 1 to 241\n",
            "Data columns (total 12 columns):\n",
            " #   Column        Non-Null Count  Dtype  \n",
            "---  ------        --------------  -----  \n",
            " 0   _id           223 non-null    object \n",
            " 1   firstMajor    223 non-null    object \n",
            " 2   role          223 non-null    object \n",
            " 3   secondMajor   0 non-null      object \n",
            " 4   passSemester  0 non-null      object \n",
            " 5   passGPA       0 non-null      float64\n",
            " 6   hopeMajor1    223 non-null    object \n",
            " 7   hopeMajor2    223 non-null    object \n",
            " 8   hopeSemester  223 non-null    object \n",
            " 9   curGPA        223 non-null    float64\n",
            " 10  changeGPA     223 non-null    float64\n",
            " 11  isApplied     223 non-null    object \n",
            "dtypes: float64(3), object(9)\n",
            "memory usage: 22.6+ KB\n",
            "None\n"
          ]
        }
      ]
    },
    {
      "cell_type": "markdown",
      "source": [
        "결과적으로, passer 샘플은 총 19개 candidate 샘플은 총 223 개 존재한다. \\\n",
        "passer 샘플은 그 개수가 너무 적으므로, 일단 candidate data 를 중점적으로 활용한다."
      ],
      "metadata": {
        "id": "WpKAGGNyktEI"
      }
    },
    {
      "cell_type": "code",
      "source": [
        "# user_passer_df 의 불필요한 column 정리\n",
        "drop_list1 = ['role', 'hopeMajor1', 'hopeMajor2', 'hopeSemester', 'curGPA', 'changeGPA', 'isApplied']\n",
        "user_passer_df.drop(labels=drop_list1, axis=1, inplace=True)\n",
        "\n",
        "# user_candidate_df 의 불필요한 column 정리\n",
        "drop_list2 = ['role', 'secondMajor', 'passSemester', 'passGPA', 'changeGPA', 'curGPA', 'hopeSemester', 'isApplied']\n",
        "user_candidate_df.drop(labels=drop_list2, axis=1, inplace=True)"
      ],
      "metadata": {
        "id": "uV58gyjIlHno"
      },
      "execution_count": null,
      "outputs": []
    },
    {
      "cell_type": "code",
      "source": [
        "print(user_passer_df.info())\n",
        "print(user_candidate_df.info())"
      ],
      "metadata": {
        "colab": {
          "base_uri": "https://localhost:8080/"
        },
        "id": "c4vQlYFNn5K3",
        "outputId": "09df04ae-0a14-4e07-bdcd-685ea60a1251"
      },
      "execution_count": null,
      "outputs": [
        {
          "output_type": "stream",
          "name": "stdout",
          "text": [
            "<class 'pandas.core.frame.DataFrame'>\n",
            "Int64Index: 19 entries, 0 to 236\n",
            "Data columns (total 5 columns):\n",
            " #   Column        Non-Null Count  Dtype  \n",
            "---  ------        --------------  -----  \n",
            " 0   _id           19 non-null     object \n",
            " 1   firstMajor    19 non-null     object \n",
            " 2   secondMajor   19 non-null     object \n",
            " 3   passSemester  19 non-null     object \n",
            " 4   passGPA       19 non-null     float64\n",
            "dtypes: float64(1), object(4)\n",
            "memory usage: 912.0+ bytes\n",
            "None\n",
            "<class 'pandas.core.frame.DataFrame'>\n",
            "Int64Index: 223 entries, 1 to 241\n",
            "Data columns (total 4 columns):\n",
            " #   Column      Non-Null Count  Dtype \n",
            "---  ------      --------------  ----- \n",
            " 0   _id         223 non-null    object\n",
            " 1   firstMajor  223 non-null    object\n",
            " 2   hopeMajor1  223 non-null    object\n",
            " 3   hopeMajor2  223 non-null    object\n",
            "dtypes: object(4)\n",
            "memory usage: 8.7+ KB\n",
            "None\n"
          ]
        }
      ]
    },
    {
      "cell_type": "markdown",
      "source": [
        "### 1.3 결측치 확인 및 제거"
      ],
      "metadata": {
        "id": "VhfP2zOooTN2"
      }
    },
    {
      "cell_type": "code",
      "source": [
        "# df 별 결측치 확인\n",
        "print(user_candidate_df.isnull().sum())\n",
        "print(application_df.isnull().sum())"
      ],
      "metadata": {
        "colab": {
          "base_uri": "https://localhost:8080/"
        },
        "id": "62FNCRRmi8hD",
        "outputId": "3ca27a6b-cb5e-4c77-f877-085982c9aa4d"
      },
      "execution_count": null,
      "outputs": [
        {
          "output_type": "stream",
          "name": "stdout",
          "text": [
            "_id           0\n",
            "firstMajor    0\n",
            "hopeMajor1    0\n",
            "hopeMajor2    0\n",
            "dtype: int64\n",
            "_id              0\n",
            "applyMajor1      0\n",
            "applyMajor2      0\n",
            "applySemester    0\n",
            "applyTimes       0\n",
            "applyGPA         0\n",
            "applyGrade       0\n",
            "dtype: int64\n"
          ]
        }
      ]
    },
    {
      "cell_type": "markdown",
      "source": [
        "결측치가 존재하지 않으므로, 이 부분에 대해서는 별도의 처리를 해주지 않는다."
      ],
      "metadata": {
        "id": "78BmfJ-mpHD-"
      }
    },
    {
      "cell_type": "markdown",
      "source": [
        "### 1.4 Major column 의 딕셔너리 데이터값 한 가지로 통일"
      ],
      "metadata": {
        "id": "hecZz65zouXr"
      }
    },
    {
      "cell_type": "code",
      "source": [
        "# name KEY 에 해당하는 value 추출 함수 정의\n",
        "\n",
        "def extract_name(major_dict):\n",
        "    return major_dict['name'] if 'name' in major_dict else None"
      ],
      "metadata": {
        "id": "kJ-EKsu1rNhh"
      },
      "execution_count": null,
      "outputs": []
    },
    {
      "cell_type": "code",
      "source": [
        "# application_df 처리\n",
        "# 처리필요한 열: applyMajor1, applyMajor2\n",
        "# (_id / name)\n",
        "\n",
        "# temp = application_df.copy()\n",
        "application_df['applyMajor1'] = application_df['applyMajor1'].apply(extract_name)\n",
        "application_df['applyMajor2'] = application_df['applyMajor2'].apply(extract_name)\n",
        "\n",
        "application_df.head()"
      ],
      "metadata": {
        "id": "gbUc-OQno0eX"
      },
      "execution_count": null,
      "outputs": []
    },
    {
      "cell_type": "code",
      "source": [
        "# user_candidate_df 처리\n",
        "# 처리필요한 열: firstMajor, hopeMajor1, hopeMajor2\n",
        "# (_id / name)\n",
        "\n",
        "# temp = user_candidate_df.copy()\n",
        "user_candidate_df['firstMajor'] = user_candidate_df['firstMajor'].apply(extract_name)\n",
        "user_candidate_df['hopeMajor1'] = user_candidate_df['hopeMajor1'].apply(extract_name)\n",
        "user_candidate_df['hopeMajor2'] = user_candidate_df['hopeMajor2'].apply(extract_name)\n",
        "\n",
        "user_candidate_df.head()"
      ],
      "metadata": {
        "id": "ja0fe5FGpcwg"
      },
      "execution_count": null,
      "outputs": []
    },
    {
      "cell_type": "markdown",
      "source": [
        "### 1.5 모의지원 데이터 및 회원정보 데이터 병합 (merge)"
      ],
      "metadata": {
        "id": "OSuFeHnBp1iq"
      }
    },
    {
      "cell_type": "code",
      "source": [
        "merged_df = pd.merge(application_df, user_candidate_df)\n",
        "print(merged_df.info())\n",
        "print(merged_df.head())"
      ],
      "metadata": {
        "id": "ZNaOPRgazlOk"
      },
      "execution_count": null,
      "outputs": []
    },
    {
      "cell_type": "code",
      "source": [
        "merged_df.head()"
      ],
      "metadata": {
        "id": "RIVx7iy21uHp"
      },
      "execution_count": null,
      "outputs": []
    },
    {
      "cell_type": "code",
      "source": [
        "# CSV 파일로 저장\n",
        "merged_df.to_csv('/content/drive/MyDrive/Colab Notebooks/kuply-MLOps/merged_df.csv', index=None)"
      ],
      "metadata": {
        "id": "tK0qYUE40U1C"
      },
      "execution_count": null,
      "outputs": []
    },
    {
      "cell_type": "markdown",
      "source": [
        "# 2. Model Fitting\n",
        "\n",
        "[ 파이프라인 개요 ]\n",
        "\n",
        "1. 임베딩\n",
        "2. 차원축소\n",
        "3. 클러스터링\n"
      ],
      "metadata": {
        "id": "wkiQ8glY2ixY"
      }
    },
    {
      "cell_type": "markdown",
      "source": [
        "# 3. Evaluation"
      ],
      "metadata": {
        "id": "crsGM3ktBKpN"
      }
    },
    {
      "cell_type": "code",
      "source": [
        "# 데이터 불러오기\n",
        "\n",
        "df = pd.read_csv('/content/drive/MyDrive/Colab Notebooks/kupply-MLOps/merged_df.csv')\n",
        "df.head()"
      ],
      "metadata": {
        "colab": {
          "base_uri": "https://localhost:8080/",
          "height": 206
        },
        "id": "JOypZoSV2ucg",
        "outputId": "916c4492-f16b-44d1-a28d-83412ecc967a"
      },
      "execution_count": null,
      "outputs": [
        {
          "output_type": "execute_result",
          "data": {
            "text/plain": [
              "                        _id applyMajor1 applyMajor2 applySemester applyTimes  \\\n",
              "0  6546e6d2d99b2247f05a18a0       컴퓨터학과        통계학과        2023-2      First   \n",
              "1  6544e32ed99b2247f0428e27        심리학부       미디어학부        2023-2      First   \n",
              "2  65439ec765045ea661f3e461       컴퓨터학과        통계학과        2023-2      First   \n",
              "3  6543a22565045ea661f465a0        경영학과       희망 없음        2023-2      First   \n",
              "4  65486c7a1eb02ee3ad22be9c        경제학과       희망 없음        2023-2      First   \n",
              "\n",
              "   applyGPA applyGrade firstMajor hopeMajor1 hopeMajor2  \n",
              "0      4.11        3-2    산업경영공학부      컴퓨터학과       통계학과  \n",
              "1      4.14        2-2    디자인조형학부       심리학부      미디어학부  \n",
              "2      3.90        3-2        수학과      컴퓨터학과       통계학과  \n",
              "3      4.32        2-1       경제학과       경영학과      희망 없음  \n",
              "4      4.37        2-2     국어국문학과       경제학과      희망 없음  "
            ],
            "text/html": [
              "\n",
              "  <div id=\"df-6077d275-fcdd-49d4-9fbe-3e354328a743\" class=\"colab-df-container\">\n",
              "    <div>\n",
              "<style scoped>\n",
              "    .dataframe tbody tr th:only-of-type {\n",
              "        vertical-align: middle;\n",
              "    }\n",
              "\n",
              "    .dataframe tbody tr th {\n",
              "        vertical-align: top;\n",
              "    }\n",
              "\n",
              "    .dataframe thead th {\n",
              "        text-align: right;\n",
              "    }\n",
              "</style>\n",
              "<table border=\"1\" class=\"dataframe\">\n",
              "  <thead>\n",
              "    <tr style=\"text-align: right;\">\n",
              "      <th></th>\n",
              "      <th>_id</th>\n",
              "      <th>applyMajor1</th>\n",
              "      <th>applyMajor2</th>\n",
              "      <th>applySemester</th>\n",
              "      <th>applyTimes</th>\n",
              "      <th>applyGPA</th>\n",
              "      <th>applyGrade</th>\n",
              "      <th>firstMajor</th>\n",
              "      <th>hopeMajor1</th>\n",
              "      <th>hopeMajor2</th>\n",
              "    </tr>\n",
              "  </thead>\n",
              "  <tbody>\n",
              "    <tr>\n",
              "      <th>0</th>\n",
              "      <td>6546e6d2d99b2247f05a18a0</td>\n",
              "      <td>컴퓨터학과</td>\n",
              "      <td>통계학과</td>\n",
              "      <td>2023-2</td>\n",
              "      <td>First</td>\n",
              "      <td>4.11</td>\n",
              "      <td>3-2</td>\n",
              "      <td>산업경영공학부</td>\n",
              "      <td>컴퓨터학과</td>\n",
              "      <td>통계학과</td>\n",
              "    </tr>\n",
              "    <tr>\n",
              "      <th>1</th>\n",
              "      <td>6544e32ed99b2247f0428e27</td>\n",
              "      <td>심리학부</td>\n",
              "      <td>미디어학부</td>\n",
              "      <td>2023-2</td>\n",
              "      <td>First</td>\n",
              "      <td>4.14</td>\n",
              "      <td>2-2</td>\n",
              "      <td>디자인조형학부</td>\n",
              "      <td>심리학부</td>\n",
              "      <td>미디어학부</td>\n",
              "    </tr>\n",
              "    <tr>\n",
              "      <th>2</th>\n",
              "      <td>65439ec765045ea661f3e461</td>\n",
              "      <td>컴퓨터학과</td>\n",
              "      <td>통계학과</td>\n",
              "      <td>2023-2</td>\n",
              "      <td>First</td>\n",
              "      <td>3.90</td>\n",
              "      <td>3-2</td>\n",
              "      <td>수학과</td>\n",
              "      <td>컴퓨터학과</td>\n",
              "      <td>통계학과</td>\n",
              "    </tr>\n",
              "    <tr>\n",
              "      <th>3</th>\n",
              "      <td>6543a22565045ea661f465a0</td>\n",
              "      <td>경영학과</td>\n",
              "      <td>희망 없음</td>\n",
              "      <td>2023-2</td>\n",
              "      <td>First</td>\n",
              "      <td>4.32</td>\n",
              "      <td>2-1</td>\n",
              "      <td>경제학과</td>\n",
              "      <td>경영학과</td>\n",
              "      <td>희망 없음</td>\n",
              "    </tr>\n",
              "    <tr>\n",
              "      <th>4</th>\n",
              "      <td>65486c7a1eb02ee3ad22be9c</td>\n",
              "      <td>경제학과</td>\n",
              "      <td>희망 없음</td>\n",
              "      <td>2023-2</td>\n",
              "      <td>First</td>\n",
              "      <td>4.37</td>\n",
              "      <td>2-2</td>\n",
              "      <td>국어국문학과</td>\n",
              "      <td>경제학과</td>\n",
              "      <td>희망 없음</td>\n",
              "    </tr>\n",
              "  </tbody>\n",
              "</table>\n",
              "</div>\n",
              "    <div class=\"colab-df-buttons\">\n",
              "\n",
              "  <div class=\"colab-df-container\">\n",
              "    <button class=\"colab-df-convert\" onclick=\"convertToInteractive('df-6077d275-fcdd-49d4-9fbe-3e354328a743')\"\n",
              "            title=\"Convert this dataframe to an interactive table.\"\n",
              "            style=\"display:none;\">\n",
              "\n",
              "  <svg xmlns=\"http://www.w3.org/2000/svg\" height=\"24px\" viewBox=\"0 -960 960 960\">\n",
              "    <path d=\"M120-120v-720h720v720H120Zm60-500h600v-160H180v160Zm220 220h160v-160H400v160Zm0 220h160v-160H400v160ZM180-400h160v-160H180v160Zm440 0h160v-160H620v160ZM180-180h160v-160H180v160Zm440 0h160v-160H620v160Z\"/>\n",
              "  </svg>\n",
              "    </button>\n",
              "\n",
              "  <style>\n",
              "    .colab-df-container {\n",
              "      display:flex;\n",
              "      gap: 12px;\n",
              "    }\n",
              "\n",
              "    .colab-df-convert {\n",
              "      background-color: #E8F0FE;\n",
              "      border: none;\n",
              "      border-radius: 50%;\n",
              "      cursor: pointer;\n",
              "      display: none;\n",
              "      fill: #1967D2;\n",
              "      height: 32px;\n",
              "      padding: 0 0 0 0;\n",
              "      width: 32px;\n",
              "    }\n",
              "\n",
              "    .colab-df-convert:hover {\n",
              "      background-color: #E2EBFA;\n",
              "      box-shadow: 0px 1px 2px rgba(60, 64, 67, 0.3), 0px 1px 3px 1px rgba(60, 64, 67, 0.15);\n",
              "      fill: #174EA6;\n",
              "    }\n",
              "\n",
              "    .colab-df-buttons div {\n",
              "      margin-bottom: 4px;\n",
              "    }\n",
              "\n",
              "    [theme=dark] .colab-df-convert {\n",
              "      background-color: #3B4455;\n",
              "      fill: #D2E3FC;\n",
              "    }\n",
              "\n",
              "    [theme=dark] .colab-df-convert:hover {\n",
              "      background-color: #434B5C;\n",
              "      box-shadow: 0px 1px 3px 1px rgba(0, 0, 0, 0.15);\n",
              "      filter: drop-shadow(0px 1px 2px rgba(0, 0, 0, 0.3));\n",
              "      fill: #FFFFFF;\n",
              "    }\n",
              "  </style>\n",
              "\n",
              "    <script>\n",
              "      const buttonEl =\n",
              "        document.querySelector('#df-6077d275-fcdd-49d4-9fbe-3e354328a743 button.colab-df-convert');\n",
              "      buttonEl.style.display =\n",
              "        google.colab.kernel.accessAllowed ? 'block' : 'none';\n",
              "\n",
              "      async function convertToInteractive(key) {\n",
              "        const element = document.querySelector('#df-6077d275-fcdd-49d4-9fbe-3e354328a743');\n",
              "        const dataTable =\n",
              "          await google.colab.kernel.invokeFunction('convertToInteractive',\n",
              "                                                    [key], {});\n",
              "        if (!dataTable) return;\n",
              "\n",
              "        const docLinkHtml = 'Like what you see? Visit the ' +\n",
              "          '<a target=\"_blank\" href=https://colab.research.google.com/notebooks/data_table.ipynb>data table notebook</a>'\n",
              "          + ' to learn more about interactive tables.';\n",
              "        element.innerHTML = '';\n",
              "        dataTable['output_type'] = 'display_data';\n",
              "        await google.colab.output.renderOutput(dataTable, element);\n",
              "        const docLink = document.createElement('div');\n",
              "        docLink.innerHTML = docLinkHtml;\n",
              "        element.appendChild(docLink);\n",
              "      }\n",
              "    </script>\n",
              "  </div>\n",
              "\n",
              "\n",
              "<div id=\"df-65285e32-56cf-4ddd-9671-10230e0be736\">\n",
              "  <button class=\"colab-df-quickchart\" onclick=\"quickchart('df-65285e32-56cf-4ddd-9671-10230e0be736')\"\n",
              "            title=\"Suggest charts\"\n",
              "            style=\"display:none;\">\n",
              "\n",
              "<svg xmlns=\"http://www.w3.org/2000/svg\" height=\"24px\"viewBox=\"0 0 24 24\"\n",
              "     width=\"24px\">\n",
              "    <g>\n",
              "        <path d=\"M19 3H5c-1.1 0-2 .9-2 2v14c0 1.1.9 2 2 2h14c1.1 0 2-.9 2-2V5c0-1.1-.9-2-2-2zM9 17H7v-7h2v7zm4 0h-2V7h2v10zm4 0h-2v-4h2v4z\"/>\n",
              "    </g>\n",
              "</svg>\n",
              "  </button>\n",
              "\n",
              "<style>\n",
              "  .colab-df-quickchart {\n",
              "      --bg-color: #E8F0FE;\n",
              "      --fill-color: #1967D2;\n",
              "      --hover-bg-color: #E2EBFA;\n",
              "      --hover-fill-color: #174EA6;\n",
              "      --disabled-fill-color: #AAA;\n",
              "      --disabled-bg-color: #DDD;\n",
              "  }\n",
              "\n",
              "  [theme=dark] .colab-df-quickchart {\n",
              "      --bg-color: #3B4455;\n",
              "      --fill-color: #D2E3FC;\n",
              "      --hover-bg-color: #434B5C;\n",
              "      --hover-fill-color: #FFFFFF;\n",
              "      --disabled-bg-color: #3B4455;\n",
              "      --disabled-fill-color: #666;\n",
              "  }\n",
              "\n",
              "  .colab-df-quickchart {\n",
              "    background-color: var(--bg-color);\n",
              "    border: none;\n",
              "    border-radius: 50%;\n",
              "    cursor: pointer;\n",
              "    display: none;\n",
              "    fill: var(--fill-color);\n",
              "    height: 32px;\n",
              "    padding: 0;\n",
              "    width: 32px;\n",
              "  }\n",
              "\n",
              "  .colab-df-quickchart:hover {\n",
              "    background-color: var(--hover-bg-color);\n",
              "    box-shadow: 0 1px 2px rgba(60, 64, 67, 0.3), 0 1px 3px 1px rgba(60, 64, 67, 0.15);\n",
              "    fill: var(--button-hover-fill-color);\n",
              "  }\n",
              "\n",
              "  .colab-df-quickchart-complete:disabled,\n",
              "  .colab-df-quickchart-complete:disabled:hover {\n",
              "    background-color: var(--disabled-bg-color);\n",
              "    fill: var(--disabled-fill-color);\n",
              "    box-shadow: none;\n",
              "  }\n",
              "\n",
              "  .colab-df-spinner {\n",
              "    border: 2px solid var(--fill-color);\n",
              "    border-color: transparent;\n",
              "    border-bottom-color: var(--fill-color);\n",
              "    animation:\n",
              "      spin 1s steps(1) infinite;\n",
              "  }\n",
              "\n",
              "  @keyframes spin {\n",
              "    0% {\n",
              "      border-color: transparent;\n",
              "      border-bottom-color: var(--fill-color);\n",
              "      border-left-color: var(--fill-color);\n",
              "    }\n",
              "    20% {\n",
              "      border-color: transparent;\n",
              "      border-left-color: var(--fill-color);\n",
              "      border-top-color: var(--fill-color);\n",
              "    }\n",
              "    30% {\n",
              "      border-color: transparent;\n",
              "      border-left-color: var(--fill-color);\n",
              "      border-top-color: var(--fill-color);\n",
              "      border-right-color: var(--fill-color);\n",
              "    }\n",
              "    40% {\n",
              "      border-color: transparent;\n",
              "      border-right-color: var(--fill-color);\n",
              "      border-top-color: var(--fill-color);\n",
              "    }\n",
              "    60% {\n",
              "      border-color: transparent;\n",
              "      border-right-color: var(--fill-color);\n",
              "    }\n",
              "    80% {\n",
              "      border-color: transparent;\n",
              "      border-right-color: var(--fill-color);\n",
              "      border-bottom-color: var(--fill-color);\n",
              "    }\n",
              "    90% {\n",
              "      border-color: transparent;\n",
              "      border-bottom-color: var(--fill-color);\n",
              "    }\n",
              "  }\n",
              "</style>\n",
              "\n",
              "  <script>\n",
              "    async function quickchart(key) {\n",
              "      const quickchartButtonEl =\n",
              "        document.querySelector('#' + key + ' button');\n",
              "      quickchartButtonEl.disabled = true;  // To prevent multiple clicks.\n",
              "      quickchartButtonEl.classList.add('colab-df-spinner');\n",
              "      try {\n",
              "        const charts = await google.colab.kernel.invokeFunction(\n",
              "            'suggestCharts', [key], {});\n",
              "      } catch (error) {\n",
              "        console.error('Error during call to suggestCharts:', error);\n",
              "      }\n",
              "      quickchartButtonEl.classList.remove('colab-df-spinner');\n",
              "      quickchartButtonEl.classList.add('colab-df-quickchart-complete');\n",
              "    }\n",
              "    (() => {\n",
              "      let quickchartButtonEl =\n",
              "        document.querySelector('#df-65285e32-56cf-4ddd-9671-10230e0be736 button');\n",
              "      quickchartButtonEl.style.display =\n",
              "        google.colab.kernel.accessAllowed ? 'block' : 'none';\n",
              "    })();\n",
              "  </script>\n",
              "</div>\n",
              "    </div>\n",
              "  </div>\n"
            ]
          },
          "metadata": {},
          "execution_count": 20
        }
      ]
    },
    {
      "cell_type": "code",
      "source": [
        "# 라이브러리 임포트\n",
        "\n",
        "from sklearn import datasets,metrics\n",
        "import matplotlib.pyplot as plt\n",
        "from sklearn.cluster import KMeans\n",
        "from sklearn.datasets import load_iris\n",
        "import numpy as np\n",
        "from sklearn.metrics import silhouette_score\n",
        "from scipy.spatial import distance # 거리 계산\n",
        "\n",
        "from google.colab import files\n",
        "from IPython.display import Image"
      ],
      "metadata": {
        "id": "zJB78CGh7Kot"
      },
      "execution_count": null,
      "outputs": []
    }
  ]
}